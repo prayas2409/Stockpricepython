{
 "cells": [
  {
   "cell_type": "code",
   "execution_count": 113,
   "metadata": {},
   "outputs": [],
   "source": [
    "import numpy as np\n",
    "import pandas as pd\n",
    "from sklearn.linear_model import LinearRegression\n",
    "from sklearn.model_selection import cross_val_score,cross_validate,train_test_split\n",
    "from sklearn.preprocessing import StandardScaler,Normalizer, RobustScaler\n",
    "from sklearn.metrics import *\n",
    "# import seaborn as sns\n",
    "# from sklearn.discriminant_analysis import LinearDiscriminantAnalysis as LDA\n",
    "import sys\n",
    "import pickle\n",
    "import os"
   ]
  },
  {
   "cell_type": "code",
   "execution_count": 114,
   "metadata": {},
   "outputs": [
    {
     "ename": "TypeError",
     "evalue": "'_io.TextIOWrapper' object is not callable",
     "output_type": "error",
     "traceback": [
      "\u001b[0;31m---------------------------------------------------------------------------\u001b[0m",
      "\u001b[0;31mTypeError\u001b[0m                                 Traceback (most recent call last)",
      "\u001b[0;32m<ipython-input-114-55eb726ef877>\u001b[0m in \u001b[0;36m<module>\u001b[0;34m\u001b[0m\n\u001b[0;32m----> 1\u001b[0;31m \u001b[0mdata_path\u001b[0m \u001b[0;34m=\u001b[0m \u001b[0msys\u001b[0m\u001b[0;34m.\u001b[0m\u001b[0mstdin\u001b[0m\u001b[0;34m(\u001b[0m\u001b[0;36m0\u001b[0m\u001b[0;34m)\u001b[0m\u001b[0;34m\u001b[0m\u001b[0;34m\u001b[0m\u001b[0m\n\u001b[0m\u001b[1;32m      2\u001b[0m \u001b[0mmodel_path\u001b[0m \u001b[0;34m=\u001b[0m \u001b[0msys\u001b[0m\u001b[0;34m.\u001b[0m\u001b[0mstdin\u001b[0m\u001b[0;34m(\u001b[0m\u001b[0;36m1\u001b[0m\u001b[0;34m)\u001b[0m\u001b[0;34m\u001b[0m\u001b[0;34m\u001b[0m\u001b[0m\n",
      "\u001b[0;31mTypeError\u001b[0m: '_io.TextIOWrapper' object is not callable"
     ]
    }
   ],
   "source": [
    "data_path = sys.stdin(0)\n",
    "model_path = sys.stdin(1)"
   ]
  },
  {
   "cell_type": "code",
   "execution_count": 115,
   "metadata": {},
   "outputs": [],
   "source": [
    "df = pd.read_csv(\"Data/HistoricalQuotes.csv\",thousands=',')"
   ]
  },
  {
   "cell_type": "code",
   "execution_count": 116,
   "metadata": {},
   "outputs": [
    {
     "data": {
      "text/html": [
       "<div>\n",
       "<style scoped>\n",
       "    .dataframe tbody tr th:only-of-type {\n",
       "        vertical-align: middle;\n",
       "    }\n",
       "\n",
       "    .dataframe tbody tr th {\n",
       "        vertical-align: top;\n",
       "    }\n",
       "\n",
       "    .dataframe thead th {\n",
       "        text-align: right;\n",
       "    }\n",
       "</style>\n",
       "<table border=\"1\" class=\"dataframe\">\n",
       "  <thead>\n",
       "    <tr style=\"text-align: right;\">\n",
       "      <th></th>\n",
       "      <th>date</th>\n",
       "      <th>close</th>\n",
       "      <th>volume</th>\n",
       "      <th>open</th>\n",
       "      <th>high</th>\n",
       "      <th>low</th>\n",
       "    </tr>\n",
       "  </thead>\n",
       "  <tbody>\n",
       "    <tr>\n",
       "      <th>0</th>\n",
       "      <td>11:11</td>\n",
       "      <td>1117.625</td>\n",
       "      <td>420446.0</td>\n",
       "      <td>1118.00</td>\n",
       "      <td>1122.00</td>\n",
       "      <td>1111.01</td>\n",
       "    </tr>\n",
       "    <tr>\n",
       "      <th>1</th>\n",
       "      <td>2019/06/21</td>\n",
       "      <td>1121.880</td>\n",
       "      <td>1947591.0</td>\n",
       "      <td>1109.24</td>\n",
       "      <td>1124.11</td>\n",
       "      <td>1108.08</td>\n",
       "    </tr>\n",
       "    <tr>\n",
       "      <th>2</th>\n",
       "      <td>2019/06/20</td>\n",
       "      <td>1111.420</td>\n",
       "      <td>1262011.0</td>\n",
       "      <td>1119.99</td>\n",
       "      <td>1120.12</td>\n",
       "      <td>1104.74</td>\n",
       "    </tr>\n",
       "    <tr>\n",
       "      <th>3</th>\n",
       "      <td>2019/06/19</td>\n",
       "      <td>1102.330</td>\n",
       "      <td>1339218.0</td>\n",
       "      <td>1105.60</td>\n",
       "      <td>1107.00</td>\n",
       "      <td>1093.48</td>\n",
       "    </tr>\n",
       "    <tr>\n",
       "      <th>4</th>\n",
       "      <td>2019/06/18</td>\n",
       "      <td>1103.600</td>\n",
       "      <td>1386684.0</td>\n",
       "      <td>1109.69</td>\n",
       "      <td>1116.39</td>\n",
       "      <td>1098.99</td>\n",
       "    </tr>\n",
       "  </tbody>\n",
       "</table>\n",
       "</div>"
      ],
      "text/plain": [
       "         date     close     volume     open     high      low\n",
       "0       11:11  1117.625   420446.0  1118.00  1122.00  1111.01\n",
       "1  2019/06/21  1121.880  1947591.0  1109.24  1124.11  1108.08\n",
       "2  2019/06/20  1111.420  1262011.0  1119.99  1120.12  1104.74\n",
       "3  2019/06/19  1102.330  1339218.0  1105.60  1107.00  1093.48\n",
       "4  2019/06/18  1103.600  1386684.0  1109.69  1116.39  1098.99"
      ]
     },
     "execution_count": 116,
     "metadata": {},
     "output_type": "execute_result"
    }
   ],
   "source": [
    "df.head()"
   ]
  },
  {
   "cell_type": "code",
   "execution_count": 117,
   "metadata": {},
   "outputs": [],
   "source": [
    "train_set = df.drop('date',axis =1)"
   ]
  },
  {
   "cell_type": "code",
   "execution_count": 118,
   "metadata": {},
   "outputs": [
    {
     "data": {
      "text/html": [
       "<div>\n",
       "<style scoped>\n",
       "    .dataframe tbody tr th:only-of-type {\n",
       "        vertical-align: middle;\n",
       "    }\n",
       "\n",
       "    .dataframe tbody tr th {\n",
       "        vertical-align: top;\n",
       "    }\n",
       "\n",
       "    .dataframe thead th {\n",
       "        text-align: right;\n",
       "    }\n",
       "</style>\n",
       "<table border=\"1\" class=\"dataframe\">\n",
       "  <thead>\n",
       "    <tr style=\"text-align: right;\">\n",
       "      <th></th>\n",
       "      <th>close</th>\n",
       "      <th>volume</th>\n",
       "      <th>open</th>\n",
       "      <th>high</th>\n",
       "      <th>low</th>\n",
       "    </tr>\n",
       "  </thead>\n",
       "  <tbody>\n",
       "    <tr>\n",
       "      <th>0</th>\n",
       "      <td>1117.625</td>\n",
       "      <td>420446.0</td>\n",
       "      <td>1118.00</td>\n",
       "      <td>1122.00</td>\n",
       "      <td>1111.01</td>\n",
       "    </tr>\n",
       "    <tr>\n",
       "      <th>1</th>\n",
       "      <td>1121.880</td>\n",
       "      <td>1947591.0</td>\n",
       "      <td>1109.24</td>\n",
       "      <td>1124.11</td>\n",
       "      <td>1108.08</td>\n",
       "    </tr>\n",
       "    <tr>\n",
       "      <th>2</th>\n",
       "      <td>1111.420</td>\n",
       "      <td>1262011.0</td>\n",
       "      <td>1119.99</td>\n",
       "      <td>1120.12</td>\n",
       "      <td>1104.74</td>\n",
       "    </tr>\n",
       "    <tr>\n",
       "      <th>3</th>\n",
       "      <td>1102.330</td>\n",
       "      <td>1339218.0</td>\n",
       "      <td>1105.60</td>\n",
       "      <td>1107.00</td>\n",
       "      <td>1093.48</td>\n",
       "    </tr>\n",
       "    <tr>\n",
       "      <th>4</th>\n",
       "      <td>1103.600</td>\n",
       "      <td>1386684.0</td>\n",
       "      <td>1109.69</td>\n",
       "      <td>1116.39</td>\n",
       "      <td>1098.99</td>\n",
       "    </tr>\n",
       "  </tbody>\n",
       "</table>\n",
       "</div>"
      ],
      "text/plain": [
       "      close     volume     open     high      low\n",
       "0  1117.625   420446.0  1118.00  1122.00  1111.01\n",
       "1  1121.880  1947591.0  1109.24  1124.11  1108.08\n",
       "2  1111.420  1262011.0  1119.99  1120.12  1104.74\n",
       "3  1102.330  1339218.0  1105.60  1107.00  1093.48\n",
       "4  1103.600  1386684.0  1109.69  1116.39  1098.99"
      ]
     },
     "execution_count": 118,
     "metadata": {},
     "output_type": "execute_result"
    }
   ],
   "source": [
    "train_set.head()"
   ]
  },
  {
   "cell_type": "code",
   "execution_count": 119,
   "metadata": {},
   "outputs": [],
   "source": [
    "y_train = train_set['open']\n",
    "train_set.drop('open',axis=1,inplace=True)"
   ]
  },
  {
   "cell_type": "code",
   "execution_count": 120,
   "metadata": {},
   "outputs": [],
   "source": [
    "x_train,x_test,y_train,y_test = train_test_split(train_set,y_train,test_size=0.2)"
   ]
  },
  {
   "cell_type": "code",
   "execution_count": 121,
   "metadata": {},
   "outputs": [],
   "source": [
    "# sns.pairplot(train_set,palette='bright')"
   ]
  },
  {
   "cell_type": "code",
   "execution_count": 122,
   "metadata": {},
   "outputs": [
    {
     "data": {
      "text/plain": [
       "LinearRegression(copy_X=True, fit_intercept=True, n_jobs=None, normalize=True)"
      ]
     },
     "execution_count": 122,
     "metadata": {},
     "output_type": "execute_result"
    }
   ],
   "source": [
    "linear_reg = LinearRegression(normalize=True)\n",
    "linear_reg.fit(x_train,y_train)"
   ]
  },
  {
   "cell_type": "code",
   "execution_count": 123,
   "metadata": {},
   "outputs": [],
   "source": [
    "pred = linear_reg.predict(x_test)"
   ]
  },
  {
   "cell_type": "code",
   "execution_count": 124,
   "metadata": {},
   "outputs": [],
   "source": [
    "error_mae = mean_absolute_error(pred,y_test)\n",
    "error_rmse = mean_squared_error(pred,y_test)\n",
    "accuracy = r2_score(pred,y_test)*100"
   ]
  },
  {
   "cell_type": "code",
   "execution_count": 125,
   "metadata": {},
   "outputs": [
    {
     "name": "stdout",
     "output_type": "stream",
     "text": [
      "26.245982767815114 3.5568721799848615 99.89146105510943\n"
     ]
    }
   ],
   "source": [
    "print(error_rmse,error_mae,accuracy)"
   ]
  },
  {
   "cell_type": "code",
   "execution_count": 126,
   "metadata": {},
   "outputs": [],
   "source": [
    "path = \"model/model.pkl\""
   ]
  },
  {
   "cell_type": "code",
   "execution_count": 127,
   "metadata": {},
   "outputs": [],
   "source": [
    "file = open(path,'wb')\n",
    "pickle.dump(linear_reg,file)"
   ]
  },
  {
   "cell_type": "code",
   "execution_count": 128,
   "metadata": {},
   "outputs": [
    {
     "name": "stdout",
     "output_type": "stream",
     "text": [
      "model/model.pkl\n"
     ]
    }
   ],
   "source": [
    "print(path)"
   ]
  },
  {
   "cell_type": "code",
   "execution_count": 129,
   "metadata": {},
   "outputs": [
    {
     "name": "stdout",
     "output_type": "stream",
     "text": [
      "/home/admin1/PycharmProjects/StockPrice/model/model.pkl\n"
     ]
    }
   ],
   "source": [
    "print(os.path.realpath(\"model/model.pkl\"))"
   ]
  },
  {
   "cell_type": "code",
   "execution_count": 130,
   "metadata": {},
   "outputs": [
    {
     "name": "stdout",
     "output_type": "stream",
     "text": [
      "path not returned as  'OutStream' object is not callable\n"
     ]
    }
   ],
   "source": [
    "try :\n",
    "    sys.stdout(path)\n",
    "except Exception as e:\n",
    "    print(\"path not returned as \",e)\n"
   ]
  }
 ],
 "metadata": {
  "kernelspec": {
   "display_name": "Python 3",
   "language": "python",
   "name": "python3"
  },
  "language_info": {
   "codemirror_mode": {
    "name": "ipython",
    "version": 3
   },
   "file_extension": ".py",
   "mimetype": "text/x-python",
   "name": "python",
   "nbconvert_exporter": "python",
   "pygments_lexer": "ipython3",
   "version": "3.7.3"
  }
 },
 "nbformat": 4,
 "nbformat_minor": 2
}
