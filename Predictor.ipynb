{
 "cells": [
  {
   "cell_type": "code",
   "execution_count": 11,
   "metadata": {},
   "outputs": [],
   "source": [
    "import pandas as pd\n",
    "from sklearn.linear_model import LinearRegression\n",
    "from sklearn.model_selection import cross_val_score,cross_validate,train_test_split\n",
    "from sklearn.preprocessing import StandardScaler,Normalizer, RobustScaler\n",
    "from sklearn.metrics import *\n",
    "# import seaborn as sns\n",
    "# from sklearn.discriminant_analysis import LinearDiscriminantAnalysis as LDA\n",
    "import sys\n",
    "import pickle\n",
    "import os"
   ]
  },
  {
   "cell_type": "code",
   "execution_count": null,
   "metadata": {},
   "outputs": [],
   "source": [
    "a = sys.stdin.read()"
   ]
  },
  {
   "cell_type": "code",
   "execution_count": 45,
   "metadata": {},
   "outputs": [],
   "source": [
    "data_path, model_path = a.split()"
   ]
  },
  {
   "cell_type": "code",
   "execution_count": 46,
   "metadata": {},
   "outputs": [],
   "source": [
    "df = pd.read_csv(\"Data/HistoricalQuotesonemonth.csv\",thousands=',')"
   ]
  },
  {
   "cell_type": "code",
   "execution_count": 48,
   "metadata": {},
   "outputs": [
    {
     "data": {
      "text/html": [
       "<div>\n",
       "<style scoped>\n",
       "    .dataframe tbody tr th:only-of-type {\n",
       "        vertical-align: middle;\n",
       "    }\n",
       "\n",
       "    .dataframe tbody tr th {\n",
       "        vertical-align: top;\n",
       "    }\n",
       "\n",
       "    .dataframe thead th {\n",
       "        text-align: right;\n",
       "    }\n",
       "</style>\n",
       "<table border=\"1\" class=\"dataframe\">\n",
       "  <thead>\n",
       "    <tr style=\"text-align: right;\">\n",
       "      <th></th>\n",
       "      <th>count</th>\n",
       "      <th>mean</th>\n",
       "      <th>std</th>\n",
       "      <th>min</th>\n",
       "      <th>25%</th>\n",
       "      <th>50%</th>\n",
       "      <th>75%</th>\n",
       "      <th>max</th>\n",
       "    </tr>\n",
       "  </thead>\n",
       "  <tbody>\n",
       "    <tr>\n",
       "      <th>close</th>\n",
       "      <td>24.0</td>\n",
       "      <td>1.087277e+03</td>\n",
       "      <td>26.303585</td>\n",
       "      <td>1036.23</td>\n",
       "      <td>1.076775e+03</td>\n",
       "      <td>1.085850e+03</td>\n",
       "      <td>1.105578e+03</td>\n",
       "      <td>1.134150e+03</td>\n",
       "    </tr>\n",
       "    <tr>\n",
       "      <th>volume</th>\n",
       "      <td>24.0</td>\n",
       "      <td>1.644262e+06</td>\n",
       "      <td>857284.988634</td>\n",
       "      <td>941602.00</td>\n",
       "      <td>1.224419e+06</td>\n",
       "      <td>1.450656e+06</td>\n",
       "      <td>1.728026e+06</td>\n",
       "      <td>5.130576e+06</td>\n",
       "    </tr>\n",
       "    <tr>\n",
       "      <th>open</th>\n",
       "      <td>24.0</td>\n",
       "      <td>1.089954e+03</td>\n",
       "      <td>26.406646</td>\n",
       "      <td>1042.90</td>\n",
       "      <td>1.075537e+03</td>\n",
       "      <td>1.086460e+03</td>\n",
       "      <td>1.110433e+03</td>\n",
       "      <td>1.134000e+03</td>\n",
       "    </tr>\n",
       "    <tr>\n",
       "      <th>high</th>\n",
       "      <td>24.0</td>\n",
       "      <td>1.097233e+03</td>\n",
       "      <td>26.304165</td>\n",
       "      <td>1047.49</td>\n",
       "      <td>1.080983e+03</td>\n",
       "      <td>1.096675e+03</td>\n",
       "      <td>1.117322e+03</td>\n",
       "      <td>1.151587e+03</td>\n",
       "    </tr>\n",
       "    <tr>\n",
       "      <th>low</th>\n",
       "      <td>24.0</td>\n",
       "      <td>1.079583e+03</td>\n",
       "      <td>28.832888</td>\n",
       "      <td>1025.00</td>\n",
       "      <td>1.071065e+03</td>\n",
       "      <td>1.080161e+03</td>\n",
       "      <td>1.101320e+03</td>\n",
       "      <td>1.133120e+03</td>\n",
       "    </tr>\n",
       "  </tbody>\n",
       "</table>\n",
       "</div>"
      ],
      "text/plain": [
       "        count          mean            std        min           25%  \\\n",
       "close    24.0  1.087277e+03      26.303585    1036.23  1.076775e+03   \n",
       "volume   24.0  1.644262e+06  857284.988634  941602.00  1.224419e+06   \n",
       "open     24.0  1.089954e+03      26.406646    1042.90  1.075537e+03   \n",
       "high     24.0  1.097233e+03      26.304165    1047.49  1.080983e+03   \n",
       "low      24.0  1.079583e+03      28.832888    1025.00  1.071065e+03   \n",
       "\n",
       "                 50%           75%           max  \n",
       "close   1.085850e+03  1.105578e+03  1.134150e+03  \n",
       "volume  1.450656e+06  1.728026e+06  5.130576e+06  \n",
       "open    1.086460e+03  1.110433e+03  1.134000e+03  \n",
       "high    1.096675e+03  1.117322e+03  1.151587e+03  \n",
       "low     1.080161e+03  1.101320e+03  1.133120e+03  "
      ]
     },
     "execution_count": 48,
     "metadata": {},
     "output_type": "execute_result"
    }
   ],
   "source": [
    "df.describe().T"
   ]
  },
  {
   "cell_type": "code",
   "execution_count": 49,
   "metadata": {},
   "outputs": [
    {
     "data": {
      "text/html": [
       "<div>\n",
       "<style scoped>\n",
       "    .dataframe tbody tr th:only-of-type {\n",
       "        vertical-align: middle;\n",
       "    }\n",
       "\n",
       "    .dataframe tbody tr th {\n",
       "        vertical-align: top;\n",
       "    }\n",
       "\n",
       "    .dataframe thead th {\n",
       "        text-align: right;\n",
       "    }\n",
       "</style>\n",
       "<table border=\"1\" class=\"dataframe\">\n",
       "  <thead>\n",
       "    <tr style=\"text-align: right;\">\n",
       "      <th></th>\n",
       "      <th>date</th>\n",
       "      <th>close</th>\n",
       "      <th>volume</th>\n",
       "      <th>open</th>\n",
       "      <th>high</th>\n",
       "      <th>low</th>\n",
       "    </tr>\n",
       "  </thead>\n",
       "  <tbody>\n",
       "    <tr>\n",
       "      <th>0</th>\n",
       "      <td>2019/06/28</td>\n",
       "      <td>1080.91</td>\n",
       "      <td>1693450.0</td>\n",
       "      <td>1076.39</td>\n",
       "      <td>1081.00</td>\n",
       "      <td>1073.37</td>\n",
       "    </tr>\n",
       "    <tr>\n",
       "      <th>1</th>\n",
       "      <td>2019/06/27</td>\n",
       "      <td>1076.01</td>\n",
       "      <td>1004477.0</td>\n",
       "      <td>1084.00</td>\n",
       "      <td>1087.10</td>\n",
       "      <td>1075.29</td>\n",
       "    </tr>\n",
       "    <tr>\n",
       "      <th>2</th>\n",
       "      <td>2019/06/26</td>\n",
       "      <td>1079.80</td>\n",
       "      <td>1810869.0</td>\n",
       "      <td>1086.50</td>\n",
       "      <td>1092.97</td>\n",
       "      <td>1072.24</td>\n",
       "    </tr>\n",
       "    <tr>\n",
       "      <th>3</th>\n",
       "      <td>2019/06/25</td>\n",
       "      <td>1086.35</td>\n",
       "      <td>1546913.0</td>\n",
       "      <td>1112.66</td>\n",
       "      <td>1114.35</td>\n",
       "      <td>1083.80</td>\n",
       "    </tr>\n",
       "    <tr>\n",
       "      <th>4</th>\n",
       "      <td>2019/06/24</td>\n",
       "      <td>1115.52</td>\n",
       "      <td>1395696.0</td>\n",
       "      <td>1119.61</td>\n",
       "      <td>1122.00</td>\n",
       "      <td>1111.01</td>\n",
       "    </tr>\n",
       "  </tbody>\n",
       "</table>\n",
       "</div>"
      ],
      "text/plain": [
       "         date    close     volume     open     high      low\n",
       "0  2019/06/28  1080.91  1693450.0  1076.39  1081.00  1073.37\n",
       "1  2019/06/27  1076.01  1004477.0  1084.00  1087.10  1075.29\n",
       "2  2019/06/26  1079.80  1810869.0  1086.50  1092.97  1072.24\n",
       "3  2019/06/25  1086.35  1546913.0  1112.66  1114.35  1083.80\n",
       "4  2019/06/24  1115.52  1395696.0  1119.61  1122.00  1111.01"
      ]
     },
     "execution_count": 49,
     "metadata": {},
     "output_type": "execute_result"
    }
   ],
   "source": [
    "# df.head()"
   ]
  },
  {
   "cell_type": "code",
   "execution_count": 50,
   "metadata": {},
   "outputs": [],
   "source": [
    "test_set = df.drop('date',axis =1)"
   ]
  },
  {
   "cell_type": "code",
   "execution_count": 51,
   "metadata": {},
   "outputs": [
    {
     "data": {
      "text/html": [
       "<div>\n",
       "<style scoped>\n",
       "    .dataframe tbody tr th:only-of-type {\n",
       "        vertical-align: middle;\n",
       "    }\n",
       "\n",
       "    .dataframe tbody tr th {\n",
       "        vertical-align: top;\n",
       "    }\n",
       "\n",
       "    .dataframe thead th {\n",
       "        text-align: right;\n",
       "    }\n",
       "</style>\n",
       "<table border=\"1\" class=\"dataframe\">\n",
       "  <thead>\n",
       "    <tr style=\"text-align: right;\">\n",
       "      <th></th>\n",
       "      <th>close</th>\n",
       "      <th>volume</th>\n",
       "      <th>open</th>\n",
       "      <th>high</th>\n",
       "      <th>low</th>\n",
       "    </tr>\n",
       "  </thead>\n",
       "  <tbody>\n",
       "    <tr>\n",
       "      <th>0</th>\n",
       "      <td>1080.91</td>\n",
       "      <td>1693450.0</td>\n",
       "      <td>1076.39</td>\n",
       "      <td>1081.00</td>\n",
       "      <td>1073.37</td>\n",
       "    </tr>\n",
       "    <tr>\n",
       "      <th>1</th>\n",
       "      <td>1076.01</td>\n",
       "      <td>1004477.0</td>\n",
       "      <td>1084.00</td>\n",
       "      <td>1087.10</td>\n",
       "      <td>1075.29</td>\n",
       "    </tr>\n",
       "    <tr>\n",
       "      <th>2</th>\n",
       "      <td>1079.80</td>\n",
       "      <td>1810869.0</td>\n",
       "      <td>1086.50</td>\n",
       "      <td>1092.97</td>\n",
       "      <td>1072.24</td>\n",
       "    </tr>\n",
       "    <tr>\n",
       "      <th>3</th>\n",
       "      <td>1086.35</td>\n",
       "      <td>1546913.0</td>\n",
       "      <td>1112.66</td>\n",
       "      <td>1114.35</td>\n",
       "      <td>1083.80</td>\n",
       "    </tr>\n",
       "    <tr>\n",
       "      <th>4</th>\n",
       "      <td>1115.52</td>\n",
       "      <td>1395696.0</td>\n",
       "      <td>1119.61</td>\n",
       "      <td>1122.00</td>\n",
       "      <td>1111.01</td>\n",
       "    </tr>\n",
       "  </tbody>\n",
       "</table>\n",
       "</div>"
      ],
      "text/plain": [
       "     close     volume     open     high      low\n",
       "0  1080.91  1693450.0  1076.39  1081.00  1073.37\n",
       "1  1076.01  1004477.0  1084.00  1087.10  1075.29\n",
       "2  1079.80  1810869.0  1086.50  1092.97  1072.24\n",
       "3  1086.35  1546913.0  1112.66  1114.35  1083.80\n",
       "4  1115.52  1395696.0  1119.61  1122.00  1111.01"
      ]
     },
     "execution_count": 51,
     "metadata": {},
     "output_type": "execute_result"
    }
   ],
   "source": [
    "test_set.head()"
   ]
  },
  {
   "cell_type": "code",
   "execution_count": 52,
   "metadata": {},
   "outputs": [],
   "source": [
    "y_test = test_set['open']\n",
    "test_set.drop('open',axis=1,inplace=True)"
   ]
  },
  {
   "cell_type": "code",
   "execution_count": 53,
   "metadata": {},
   "outputs": [],
   "source": [
    "with open(model_path,'rb') as f:\n",
    "    model = pickle.load(f)"
   ]
  },
  {
   "cell_type": "code",
   "execution_count": 54,
   "metadata": {},
   "outputs": [],
   "source": [
    "pred = model.predict(test_set)"
   ]
  },
  {
   "cell_type": "code",
   "execution_count": 55,
   "metadata": {},
   "outputs": [],
   "source": [
    "err_mae = mean_absolute_error(y_test,pred)\n",
    "accuracy = r2_score(y_test,pred)"
   ]
  },
  {
   "cell_type": "code",
   "execution_count": 56,
   "metadata": {},
   "outputs": [
    {
     "name": "stdout",
     "output_type": "stream",
     "text": [
      "error mae = 5.119335191680648, accuracy = 0.940549905482155\n"
     ]
    }
   ],
   "source": [
    "print(\"error mae = {}, accuracy = {}\".format(err_mae,accuracy))"
   ]
  },
  {
   "cell_type": "code",
   "execution_count": 57,
   "metadata": {},
   "outputs": [],
   "source": [
    "df['pred']=pred"
   ]
  },
  {
   "cell_type": "code",
   "execution_count": 58,
   "metadata": {},
   "outputs": [
    {
     "data": {
      "text/html": [
       "<div>\n",
       "<style scoped>\n",
       "    .dataframe tbody tr th:only-of-type {\n",
       "        vertical-align: middle;\n",
       "    }\n",
       "\n",
       "    .dataframe tbody tr th {\n",
       "        vertical-align: top;\n",
       "    }\n",
       "\n",
       "    .dataframe thead th {\n",
       "        text-align: right;\n",
       "    }\n",
       "</style>\n",
       "<table border=\"1\" class=\"dataframe\">\n",
       "  <thead>\n",
       "    <tr style=\"text-align: right;\">\n",
       "      <th></th>\n",
       "      <th>date</th>\n",
       "      <th>close</th>\n",
       "      <th>volume</th>\n",
       "      <th>open</th>\n",
       "      <th>high</th>\n",
       "      <th>low</th>\n",
       "      <th>pred</th>\n",
       "    </tr>\n",
       "  </thead>\n",
       "  <tbody>\n",
       "    <tr>\n",
       "      <th>0</th>\n",
       "      <td>2019/06/28</td>\n",
       "      <td>1080.91</td>\n",
       "      <td>1693450.0</td>\n",
       "      <td>1076.39</td>\n",
       "      <td>1081.00</td>\n",
       "      <td>1073.37</td>\n",
       "      <td>1074.598651</td>\n",
       "    </tr>\n",
       "    <tr>\n",
       "      <th>1</th>\n",
       "      <td>2019/06/27</td>\n",
       "      <td>1076.01</td>\n",
       "      <td>1004477.0</td>\n",
       "      <td>1084.00</td>\n",
       "      <td>1087.10</td>\n",
       "      <td>1075.29</td>\n",
       "      <td>1084.552011</td>\n",
       "    </tr>\n",
       "    <tr>\n",
       "      <th>2</th>\n",
       "      <td>2019/06/26</td>\n",
       "      <td>1079.80</td>\n",
       "      <td>1810869.0</td>\n",
       "      <td>1086.50</td>\n",
       "      <td>1092.97</td>\n",
       "      <td>1072.24</td>\n",
       "      <td>1084.793085</td>\n",
       "    </tr>\n",
       "    <tr>\n",
       "      <th>3</th>\n",
       "      <td>2019/06/25</td>\n",
       "      <td>1086.35</td>\n",
       "      <td>1546913.0</td>\n",
       "      <td>1112.66</td>\n",
       "      <td>1114.35</td>\n",
       "      <td>1083.80</td>\n",
       "      <td>1108.088782</td>\n",
       "    </tr>\n",
       "    <tr>\n",
       "      <th>4</th>\n",
       "      <td>2019/06/24</td>\n",
       "      <td>1115.52</td>\n",
       "      <td>1395696.0</td>\n",
       "      <td>1119.61</td>\n",
       "      <td>1122.00</td>\n",
       "      <td>1111.01</td>\n",
       "      <td>1117.050489</td>\n",
       "    </tr>\n",
       "  </tbody>\n",
       "</table>\n",
       "</div>"
      ],
      "text/plain": [
       "         date    close     volume     open     high      low         pred\n",
       "0  2019/06/28  1080.91  1693450.0  1076.39  1081.00  1073.37  1074.598651\n",
       "1  2019/06/27  1076.01  1004477.0  1084.00  1087.10  1075.29  1084.552011\n",
       "2  2019/06/26  1079.80  1810869.0  1086.50  1092.97  1072.24  1084.793085\n",
       "3  2019/06/25  1086.35  1546913.0  1112.66  1114.35  1083.80  1108.088782\n",
       "4  2019/06/24  1115.52  1395696.0  1119.61  1122.00  1111.01  1117.050489"
      ]
     },
     "execution_count": 58,
     "metadata": {},
     "output_type": "execute_result"
    }
   ],
   "source": [
    "df.head()"
   ]
  },
  {
   "cell_type": "code",
   "execution_count": 9,
   "metadata": {},
   "outputs": [],
   "source": [
    "path = \"predictions/pred.csv\""
   ]
  },
  {
   "cell_type": "code",
   "execution_count": 60,
   "metadata": {},
   "outputs": [],
   "source": [
    "df.to_csv(path)"
   ]
  },
  {
   "cell_type": "code",
   "execution_count": 10,
   "metadata": {},
   "outputs": [
    {
     "name": "stdout",
     "output_type": "stream",
     "text": [
      "predictions/pred.csv"
     ]
    }
   ],
   "source": [
    "try:\n",
    "    sys.stdout.write(path)\n",
    "except Exception as e:\n",
    "        print(\"Cannot return the path beacause \",e)\n"
   ]
  }
 ],
 "metadata": {
  "kernelspec": {
   "display_name": "Python 3",
   "language": "python",
   "name": "python3"
  },
  "language_info": {
   "codemirror_mode": {
    "name": "ipython",
    "version": 3
   },
   "file_extension": ".py",
   "mimetype": "text/x-python",
   "name": "python",
   "nbconvert_exporter": "python",
   "pygments_lexer": "ipython3",
   "version": "3.7.2"
  }
 },
 "nbformat": 4,
 "nbformat_minor": 2
}
